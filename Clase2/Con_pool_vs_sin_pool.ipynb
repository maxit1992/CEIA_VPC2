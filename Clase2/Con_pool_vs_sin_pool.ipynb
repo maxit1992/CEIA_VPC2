{
  "nbformat": 4,
  "nbformat_minor": 0,
  "metadata": {
    "kernelspec": {
      "display_name": "Python 3",
      "language": "python",
      "name": "python3"
    },
    "language_info": {
      "codemirror_mode": {
        "name": "ipython",
        "version": 3
      },
      "file_extension": ".py",
      "mimetype": "text/x-python",
      "name": "python",
      "nbconvert_exporter": "python",
      "pygments_lexer": "ipython3",
      "version": "3.7.6"
    },
    "colab": {
      "name": "Copia de Con_pool_vs_sin_pool.ipynb",
      "provenance": [],
      "collapsed_sections": []
    }
  },
  "cells": [
    {
      "cell_type": "markdown",
      "metadata": {
        "id": "soCLllHwMgiT"
      },
      "source": [
        "## Experimento para ver el efecto de una capa POOL "
      ]
    },
    {
      "cell_type": "code",
      "metadata": {
        "id": "vLMhXOBSMgiU"
      },
      "source": [
        "import numpy as np\n",
        "import pandas as pd\n",
        "%matplotlib inline\n",
        "import matplotlib as mpl\n",
        "import matplotlib.pyplot as plt"
      ],
      "execution_count": 1,
      "outputs": []
    },
    {
      "cell_type": "code",
      "metadata": {
        "id": "s3kqywe9MgiY"
      },
      "source": [
        "import tensorflow as tf\n",
        "from tensorflow import keras"
      ],
      "execution_count": 2,
      "outputs": []
    },
    {
      "cell_type": "markdown",
      "metadata": {
        "id": "kWwNk5AlMgib"
      },
      "source": [
        "## Dataset: Fashion Mnist\n",
        "\n",
        "Link  https://keras.io/datasets/#fashion-mnist-database-of-fashion-articles\n",
        "\n",
        "Dataset que consiste de 60,000 imágenes de entrenamiento en blanco y negro catalogadas en 10 categorías y un test set de 10,000 imágenes. Los labels/rótulos son:\n",
        "\n",
        "| Label |\tDescription |\n",
        "--- | --- |\n",
        "| 0\t| T-shirt/top\n",
        "| 1\t| Trouser\n",
        "| 2\t| Pullover \n",
        "| 3\t| Dress\n",
        "| 4\t| Coat\n",
        "| 5\t| Sandal\n",
        "| 6\t| Shirt\n",
        "| 7\t| Sneaker\n",
        "| 8\t| Bag\n",
        "| 9\t| Ankle boot\n",
        "\n",
        "### Para importar\n",
        "from keras.datasets import fashion_mnist\n",
        "\n",
        "> (x_train, y_train), (x_test, y_test) = fashion_mnist.load_data()\n",
        "\n",
        "Retorna:\n",
        "2 tuplas:\n",
        "1. x_train, x_test: array de uint8 de imágenes blanco y negro de dimensiones (num_samples, 28, 28)\n",
        "2. y_train, y_test: array de uint8 d rótulos (enteros en el rango range 0-9) con dimensiones (num_samples,)."
      ]
    },
    {
      "cell_type": "code",
      "metadata": {
        "id": "KOy1QP9sMgic",
        "colab": {
          "base_uri": "https://localhost:8080/"
        },
        "outputId": "063dc10b-d404-4a40-a342-20cdf996902e"
      },
      "source": [
        "fashion_mnist = keras.datasets.fashion_mnist\n",
        "(X_train_full, y_train_full), (X_test, y_test) = fashion_mnist.load_data()"
      ],
      "execution_count": 3,
      "outputs": [
        {
          "output_type": "stream",
          "text": [
            "Downloading data from https://storage.googleapis.com/tensorflow/tf-keras-datasets/train-labels-idx1-ubyte.gz\n",
            "32768/29515 [=================================] - 0s 0us/step\n",
            "Downloading data from https://storage.googleapis.com/tensorflow/tf-keras-datasets/train-images-idx3-ubyte.gz\n",
            "26427392/26421880 [==============================] - 0s 0us/step\n",
            "Downloading data from https://storage.googleapis.com/tensorflow/tf-keras-datasets/t10k-labels-idx1-ubyte.gz\n",
            "8192/5148 [===============================================] - 0s 0us/step\n",
            "Downloading data from https://storage.googleapis.com/tensorflow/tf-keras-datasets/t10k-images-idx3-ubyte.gz\n",
            "4423680/4422102 [==============================] - 0s 0us/step\n"
          ],
          "name": "stdout"
        }
      ]
    },
    {
      "cell_type": "code",
      "metadata": {
        "id": "5X0Y3T_-Mgie"
      },
      "source": [
        "class_names = [\"T-shirt/top\", \"Trouser\", \"Pullover\", \"Dress\", \"Coat\",\n",
        "               \"Sandal\", \"Shirt\", \"Sneaker\", \"Bag\", \"Ankle boot\"]"
      ],
      "execution_count": 4,
      "outputs": []
    },
    {
      "cell_type": "markdown",
      "metadata": {
        "id": "eEom-9LkMgih"
      },
      "source": [
        "### Redimensionamos los datos"
      ]
    },
    {
      "cell_type": "code",
      "metadata": {
        "id": "sUGEjL_IMgih"
      },
      "source": [
        "X_train_full = X_train_full.reshape((60000, 28, 28, 1))\n",
        "X_test = X_test.reshape((10000, 28, 28, 1))"
      ],
      "execution_count": 5,
      "outputs": []
    },
    {
      "cell_type": "markdown",
      "metadata": {
        "id": "br4e_zl0Mgik"
      },
      "source": [
        "### Normalización"
      ]
    },
    {
      "cell_type": "code",
      "metadata": {
        "id": "_eaCFmNIMgik"
      },
      "source": [
        "X_train_n = X_train_full / 255.\n",
        "X_test_n = X_test / 255."
      ],
      "execution_count": 6,
      "outputs": []
    },
    {
      "cell_type": "markdown",
      "metadata": {
        "id": "0JCGlU07Mgin"
      },
      "source": [
        "### Dividimos los datos en datasets de entrenamiento/validación/test"
      ]
    },
    {
      "cell_type": "code",
      "metadata": {
        "id": "MMsJIxuNMgio"
      },
      "source": [
        "X_valid, X_train = X_train_n[:5000], X_train_n[5000:]\n",
        "y_valid, y_train = y_train_full[:5000], y_train_full[5000:]\n",
        "X_test = X_test_n"
      ],
      "execution_count": 7,
      "outputs": []
    },
    {
      "cell_type": "markdown",
      "metadata": {
        "id": "XLvwPacnMgir"
      },
      "source": [
        "### Arquitectura con Pooling vs sin Pooling\n",
        "\n",
        "![image.png](attachment:image.png)"
      ]
    },
    {
      "cell_type": "markdown",
      "metadata": {
        "id": "-WkR17tAMgir"
      },
      "source": [
        "### Pooling vs No Pooling"
      ]
    },
    {
      "cell_type": "code",
      "metadata": {
        "id": "O7VLUQp5Mgis"
      },
      "source": [
        "model_a = keras.models.Sequential()\n",
        "model_a.add(keras.layers.Conv2D(filters = 32, kernel_size = (3, 3), strides=1, padding='valid', activation='relu', input_shape=(28, 28, 1)))\n",
        "model_a.add(keras.layers.MaxPooling2D((2, 2)))\n",
        "model_a.add(keras.layers.Flatten())\n",
        "model_a.add(keras.layers.Dense(300, activation=\"relu\"))\n",
        "model_a.add(keras.layers.Dense(100, activation=\"relu\"))\n",
        "model_a.add(keras.layers.Dense(10, activation=\"softmax\"))\n",
        "\n",
        "# el segundo modelo no tiene Max Pool, notar que strides = 2 en la capa convolucional para que los dos modelos tengan\n",
        "# la misma cantidad de parámetros\n",
        "model_b = keras.models.Sequential()\n",
        "model_b.add(keras.layers.Conv2D(filters = 32, kernel_size = (3, 3), strides=2, padding='valid', activation='relu', input_shape=(28, 28, 1)))\n",
        "model_b.add(keras.layers.Flatten())\n",
        "model_b.add(keras.layers.Dense(300, activation=\"relu\"))\n",
        "model_b.add(keras.layers.Dense(100, activation=\"relu\"))\n",
        "model_b.add(keras.layers.Dense(10, activation=\"softmax\"))\n"
      ],
      "execution_count": 8,
      "outputs": []
    },
    {
      "cell_type": "code",
      "metadata": {
        "id": "-byXB946Mgiu",
        "colab": {
          "base_uri": "https://localhost:8080/"
        },
        "outputId": "03a71f53-cbc6-4205-e1aa-89fb39ebbe22"
      },
      "source": [
        "model_a.summary()"
      ],
      "execution_count": 9,
      "outputs": [
        {
          "output_type": "stream",
          "text": [
            "Model: \"sequential\"\n",
            "_________________________________________________________________\n",
            "Layer (type)                 Output Shape              Param #   \n",
            "=================================================================\n",
            "conv2d (Conv2D)              (None, 26, 26, 32)        320       \n",
            "_________________________________________________________________\n",
            "max_pooling2d (MaxPooling2D) (None, 13, 13, 32)        0         \n",
            "_________________________________________________________________\n",
            "flatten (Flatten)            (None, 5408)              0         \n",
            "_________________________________________________________________\n",
            "dense (Dense)                (None, 300)               1622700   \n",
            "_________________________________________________________________\n",
            "dense_1 (Dense)              (None, 100)               30100     \n",
            "_________________________________________________________________\n",
            "dense_2 (Dense)              (None, 10)                1010      \n",
            "=================================================================\n",
            "Total params: 1,654,130\n",
            "Trainable params: 1,654,130\n",
            "Non-trainable params: 0\n",
            "_________________________________________________________________\n"
          ],
          "name": "stdout"
        }
      ]
    },
    {
      "cell_type": "code",
      "metadata": {
        "id": "Wfp5ATVqMgiy",
        "colab": {
          "base_uri": "https://localhost:8080/"
        },
        "outputId": "7bddfe40-131e-429e-f9b3-0bd3ad03594a"
      },
      "source": [
        "model_b.summary()"
      ],
      "execution_count": 10,
      "outputs": [
        {
          "output_type": "stream",
          "text": [
            "Model: \"sequential_1\"\n",
            "_________________________________________________________________\n",
            "Layer (type)                 Output Shape              Param #   \n",
            "=================================================================\n",
            "conv2d_1 (Conv2D)            (None, 13, 13, 32)        320       \n",
            "_________________________________________________________________\n",
            "flatten_1 (Flatten)          (None, 5408)              0         \n",
            "_________________________________________________________________\n",
            "dense_3 (Dense)              (None, 300)               1622700   \n",
            "_________________________________________________________________\n",
            "dense_4 (Dense)              (None, 100)               30100     \n",
            "_________________________________________________________________\n",
            "dense_5 (Dense)              (None, 10)                1010      \n",
            "=================================================================\n",
            "Total params: 1,654,130\n",
            "Trainable params: 1,654,130\n",
            "Non-trainable params: 0\n",
            "_________________________________________________________________\n"
          ],
          "name": "stdout"
        }
      ]
    },
    {
      "cell_type": "code",
      "metadata": {
        "id": "xrYOfWXOMgi0"
      },
      "source": [
        "model_a.compile(loss=\"sparse_categorical_crossentropy\",\n",
        "              optimizer=\"sgd\",\n",
        "              metrics=[\"accuracy\"])\n",
        "\n",
        "model_b.compile(loss=\"sparse_categorical_crossentropy\",\n",
        "              optimizer=\"sgd\",\n",
        "              metrics=[\"accuracy\"])"
      ],
      "execution_count": 11,
      "outputs": []
    },
    {
      "cell_type": "code",
      "metadata": {
        "id": "cFTBddfKMgi2",
        "colab": {
          "base_uri": "https://localhost:8080/"
        },
        "outputId": "eda0291b-1a9b-4b91-baeb-b77fb6ddb019"
      },
      "source": [
        "model_history_a = model_a.fit(X_train, y_train, epochs=3,batch_size= 64,\n",
        "                    validation_data=(X_valid, y_valid))"
      ],
      "execution_count": 12,
      "outputs": [
        {
          "output_type": "stream",
          "text": [
            "Epoch 1/3\n",
            "860/860 [==============================] - 37s 42ms/step - loss: 0.8586 - accuracy: 0.7165 - val_loss: 0.6367 - val_accuracy: 0.7800\n",
            "Epoch 2/3\n",
            "860/860 [==============================] - 36s 41ms/step - loss: 0.5270 - accuracy: 0.8087 - val_loss: 0.4829 - val_accuracy: 0.8258\n",
            "Epoch 3/3\n",
            "860/860 [==============================] - 36s 42ms/step - loss: 0.4715 - accuracy: 0.8298 - val_loss: 0.4313 - val_accuracy: 0.8522\n"
          ],
          "name": "stdout"
        }
      ]
    },
    {
      "cell_type": "code",
      "metadata": {
        "id": "PeCTxg_-Mgi6",
        "colab": {
          "base_uri": "https://localhost:8080/",
          "height": 324
        },
        "outputId": "85b11e74-bee2-4323-fdb8-1c9a51d7d71f"
      },
      "source": [
        "import pandas as pd\n",
        "\n",
        "pd.DataFrame(model_history_a.history).plot(figsize=(8, 5))\n",
        "plt.grid(True)\n",
        "plt.gca().set_ylim(0, 1)\n",
        "plt.show()"
      ],
      "execution_count": 13,
      "outputs": [
        {
          "output_type": "display_data",
          "data": {
            "image/png": "[encoded data removed]",
            "text/plain": [
              "<Figure size 576x360 with 1 Axes>"
            ]
          },
          "metadata": {
            "tags": [],
            "needs_background": "light"
          }
        }
      ]
    },
    {
      "cell_type": "code",
      "metadata": {
        "id": "gRBm_RC5Mgi8",
        "colab": {
          "base_uri": "https://localhost:8080/"
        },
        "outputId": "506ddf58-6725-4b27-de6b-3bd8f8a473d9"
      },
      "source": [
        "ev = model_a.evaluate(X_test_n, y_test)"
      ],
      "execution_count": 14,
      "outputs": [
        {
          "output_type": "stream",
          "text": [
            "313/313 [==============================] - 3s 9ms/step - loss: 0.4666 - accuracy: 0.8351\n"
          ],
          "name": "stdout"
        }
      ]
    },
    {
      "cell_type": "code",
      "metadata": {
        "id": "JGRTkBTZMgi_"
      },
      "source": [
        "X_new = X_test[:3]"
      ],
      "execution_count": 15,
      "outputs": []
    },
    {
      "cell_type": "code",
      "metadata": {
        "id": "ZamreViFMgjB",
        "colab": {
          "base_uri": "https://localhost:8080/"
        },
        "outputId": "f86d1690-d675-4a37-a3b8-8e3648f3039a"
      },
      "source": [
        "y_pred = model_a.predict_classes(X_new)\n",
        "y_pred"
      ],
      "execution_count": 16,
      "outputs": [
        {
          "output_type": "stream",
          "text": [
            "/usr/local/lib/python3.7/dist-packages/tensorflow/python/keras/engine/sequential.py:455: UserWarning: `model.predict_classes()` is deprecated and will be removed after 2021-01-01. Please use instead:* `np.argmax(model.predict(x), axis=-1)`,   if your model does multi-class classification   (e.g. if it uses a `softmax` last-layer activation).* `(model.predict(x) > 0.5).astype(\"int32\")`,   if your model does binary classification   (e.g. if it uses a `sigmoid` last-layer activation).\n",
            "  warnings.warn('`model.predict_classes()` is deprecated and '\n"
          ],
          "name": "stderr"
        },
        {
          "output_type": "execute_result",
          "data": {
            "text/plain": [
              "array([9, 2, 1])"
            ]
          },
          "metadata": {
            "tags": []
          },
          "execution_count": 16
        }
      ]
    },
    {
      "cell_type": "code",
      "metadata": {
        "id": "NM8uKf5wMgjD",
        "colab": {
          "base_uri": "https://localhost:8080/"
        },
        "outputId": "31950b1d-d6b7-4eb3-bfbc-3a4144b1b4db"
      },
      "source": [
        "y_test[:3]"
      ],
      "execution_count": 17,
      "outputs": [
        {
          "output_type": "execute_result",
          "data": {
            "text/plain": [
              "array([9, 2, 1], dtype=uint8)"
            ]
          },
          "metadata": {
            "tags": []
          },
          "execution_count": 17
        }
      ]
    },
    {
      "cell_type": "code",
      "metadata": {
        "id": "Qd97ymg6MgjF",
        "colab": {
          "base_uri": "https://localhost:8080/",
          "height": 283
        },
        "outputId": "e5659438-13e7-409c-ffce-635ab4aca783"
      },
      "source": [
        "print(plt.imshow(X_test[2].reshape((28,28))))"
      ],
      "execution_count": 18,
      "outputs": [
        {
          "output_type": "stream",
          "text": [
            "AxesImage(54,36;334.8x217.44)\n"
          ],
          "name": "stdout"
        },
        {
          "output_type": "display_data",
          "data": {
            "image/png": "[encoded data removed]",
            "text/plain": [
              "<Figure size 432x288 with 1 Axes>"
            ]
          },
          "metadata": {
            "tags": [],
            "needs_background": "light"
          }
        }
      ]
    },
    {
      "cell_type": "code",
      "metadata": {
        "id": "2SUfVbMoMgjI",
        "colab": {
          "base_uri": "https://localhost:8080/"
        },
        "outputId": "b5c02e4e-699a-41b1-cc13-f7656032a843"
      },
      "source": [
        "model_history_b = model_b.fit(X_train, y_train, epochs=3,batch_size= 64,\n",
        "                    validation_data=(X_valid, y_valid))"
      ],
      "execution_count": 19,
      "outputs": [
        {
          "output_type": "stream",
          "text": [
            "Epoch 1/3\n",
            "860/860 [==============================] - 23s 26ms/step - loss: 0.8684 - accuracy: 0.7140 - val_loss: 0.5768 - val_accuracy: 0.7872\n",
            "Epoch 2/3\n",
            "860/860 [==============================] - 22s 26ms/step - loss: 0.5321 - accuracy: 0.8090 - val_loss: 0.5259 - val_accuracy: 0.8056\n",
            "Epoch 3/3\n",
            "860/860 [==============================] - 22s 26ms/step - loss: 0.4769 - accuracy: 0.8282 - val_loss: 0.4487 - val_accuracy: 0.8448\n"
          ],
          "name": "stdout"
        }
      ]
    },
    {
      "cell_type": "code",
      "metadata": {
        "id": "ZHCpTWB_MgjL",
        "colab": {
          "base_uri": "https://localhost:8080/"
        },
        "outputId": "a8639921-4a85-401c-8bf0-c97d87bb2247"
      },
      "source": [
        "ev = model_b.evaluate(X_test_n, y_test)"
      ],
      "execution_count": 20,
      "outputs": [
        {
          "output_type": "stream",
          "text": [
            "313/313 [==============================] - 2s 5ms/step - loss: 0.4848 - accuracy: 0.8259\n"
          ],
          "name": "stdout"
        }
      ]
    },
    {
      "cell_type": "markdown",
      "metadata": {
        "id": "SDrfr1ie0c3P"
      },
      "source": [
        "# Entrenamiento con redes mas profundas"
      ]
    },
    {
      "cell_type": "code",
      "metadata": {
        "id": "uxNQfcpNMgjN"
      },
      "source": [
        "model_a = keras.models.Sequential()\n",
        "model_a.add(keras.layers.Conv2D(filters = 32, kernel_size = (3, 3), strides=1, padding='valid', activation='relu', input_shape=(28, 28, 1)))\n",
        "model_a.add(keras.layers.MaxPooling2D((2, 2)))\n",
        "model_a.add(keras.layers.Conv2D(filters = 64, kernel_size = (2, 2), strides=1, padding='valid', activation='relu'))\n",
        "model_a.add(keras.layers.MaxPooling2D((2, 2)))\n",
        "model_a.add(keras.layers.Conv2D(filters = 128, kernel_size = (2, 2), strides=1, padding='valid', activation='relu'))\n",
        "model_a.add(keras.layers.MaxPooling2D((2, 2)))\n",
        "model_a.add(keras.layers.Flatten())\n",
        "model_a.add(keras.layers.Dense(300, activation=\"relu\"))\n",
        "model_a.add(keras.layers.Dense(100, activation=\"relu\"))\n",
        "model_a.add(keras.layers.Dense(10, activation=\"softmax\"))\n",
        "\n",
        "# el segundo modelo no tiene Max Pool, notar que strides = 2 en la capa convolucional para que los dos modelos tengan\n",
        "# la misma cantidad de parámetros\n",
        "model_b = keras.models.Sequential()\n",
        "model_b.add(keras.layers.Conv2D(filters = 32, kernel_size = (3, 3), strides=2, padding='valid', activation='relu', input_shape=(28, 28, 1)))\n",
        "model_b.add(keras.layers.Conv2D(filters = 64, kernel_size = (2, 2), strides=2, padding='valid', activation='relu', input_shape=(28, 28, 1)))\n",
        "model_b.add(keras.layers.Conv2D(filters = 128, kernel_size = (2, 2), strides=3, padding='valid', activation='relu', input_shape=(28, 28, 1)))\n",
        "model_b.add(keras.layers.Flatten())\n",
        "model_b.add(keras.layers.Dense(300, activation=\"relu\"))\n",
        "model_b.add(keras.layers.Dense(100, activation=\"relu\"))\n",
        "model_b.add(keras.layers.Dense(10, activation=\"softmax\"))\n"
      ],
      "execution_count": 49,
      "outputs": []
    },
    {
      "cell_type": "code",
      "metadata": {
        "colab": {
          "base_uri": "https://localhost:8080/"
        },
        "id": "1cOe_DP-00VU",
        "outputId": "b8141d93-ba0e-4a7d-bb10-8807ba0f4e1d"
      },
      "source": [
        "model_a.summary()"
      ],
      "execution_count": 50,
      "outputs": [
        {
          "output_type": "stream",
          "text": [
            "Model: \"sequential_12\"\n",
            "_________________________________________________________________\n",
            "Layer (type)                 Output Shape              Param #   \n",
            "=================================================================\n",
            "conv2d_32 (Conv2D)           (None, 26, 26, 32)        320       \n",
            "_________________________________________________________________\n",
            "max_pooling2d_16 (MaxPooling (None, 13, 13, 32)        0         \n",
            "_________________________________________________________________\n",
            "conv2d_33 (Conv2D)           (None, 12, 12, 64)        8256      \n",
            "_________________________________________________________________\n",
            "max_pooling2d_17 (MaxPooling (None, 6, 6, 64)          0         \n",
            "_________________________________________________________________\n",
            "conv2d_34 (Conv2D)           (None, 5, 5, 128)         32896     \n",
            "_________________________________________________________________\n",
            "max_pooling2d_18 (MaxPooling (None, 2, 2, 128)         0         \n",
            "_________________________________________________________________\n",
            "flatten_12 (Flatten)         (None, 512)               0         \n",
            "_________________________________________________________________\n",
            "dense_36 (Dense)             (None, 300)               153900    \n",
            "_________________________________________________________________\n",
            "dense_37 (Dense)             (None, 100)               30100     \n",
            "_________________________________________________________________\n",
            "dense_38 (Dense)             (None, 10)                1010      \n",
            "=================================================================\n",
            "Total params: 226,482\n",
            "Trainable params: 226,482\n",
            "Non-trainable params: 0\n",
            "_________________________________________________________________\n"
          ],
          "name": "stdout"
        }
      ]
    },
    {
      "cell_type": "code",
      "metadata": {
        "colab": {
          "base_uri": "https://localhost:8080/"
        },
        "id": "Sm5f8aJI08K7",
        "outputId": "39940255-550d-43b3-97f6-64ef259545ff"
      },
      "source": [
        "model_b.summary()"
      ],
      "execution_count": 51,
      "outputs": [
        {
          "output_type": "stream",
          "text": [
            "Model: \"sequential_13\"\n",
            "_________________________________________________________________\n",
            "Layer (type)                 Output Shape              Param #   \n",
            "=================================================================\n",
            "conv2d_35 (Conv2D)           (None, 13, 13, 32)        320       \n",
            "_________________________________________________________________\n",
            "conv2d_36 (Conv2D)           (None, 6, 6, 64)          8256      \n",
            "_________________________________________________________________\n",
            "conv2d_37 (Conv2D)           (None, 2, 2, 128)         32896     \n",
            "_________________________________________________________________\n",
            "flatten_13 (Flatten)         (None, 512)               0         \n",
            "_________________________________________________________________\n",
            "dense_39 (Dense)             (None, 300)               153900    \n",
            "_________________________________________________________________\n",
            "dense_40 (Dense)             (None, 100)               30100     \n",
            "_________________________________________________________________\n",
            "dense_41 (Dense)             (None, 10)                1010      \n",
            "=================================================================\n",
            "Total params: 226,482\n",
            "Trainable params: 226,482\n",
            "Non-trainable params: 0\n",
            "_________________________________________________________________\n"
          ],
          "name": "stdout"
        }
      ]
    },
    {
      "cell_type": "code",
      "metadata": {
        "id": "sGrANsiB0xEE"
      },
      "source": [
        "model_a.compile(loss=\"sparse_categorical_crossentropy\",\n",
        "              optimizer=\"sgd\",\n",
        "              metrics=[\"accuracy\"])\n",
        "\n",
        "model_b.compile(loss=\"sparse_categorical_crossentropy\",\n",
        "              optimizer=\"sgd\",\n",
        "              metrics=[\"accuracy\"])"
      ],
      "execution_count": 52,
      "outputs": []
    },
    {
      "cell_type": "code",
      "metadata": {
        "colab": {
          "base_uri": "https://localhost:8080/"
        },
        "id": "OITH3i9F2A2j",
        "outputId": "83a123c3-01af-4570-fd52-f3bdfe2b684f"
      },
      "source": [
        "model_history_a = model_a.fit(X_train, y_train, epochs=5,batch_size= 64,\n",
        "                    validation_data=(X_valid, y_valid))"
      ],
      "execution_count": 53,
      "outputs": [
        {
          "output_type": "stream",
          "text": [
            "Epoch 1/5\n",
            "860/860 [==============================] - 49s 57ms/step - loss: 1.6230 - accuracy: 0.4017 - val_loss: 1.2161 - val_accuracy: 0.5918\n",
            "Epoch 2/5\n",
            "860/860 [==============================] - 49s 57ms/step - loss: 0.7681 - accuracy: 0.7102 - val_loss: 0.6913 - val_accuracy: 0.7360\n",
            "Epoch 3/5\n",
            "860/860 [==============================] - 48s 56ms/step - loss: 0.6531 - accuracy: 0.7542 - val_loss: 0.5831 - val_accuracy: 0.7830\n",
            "Epoch 4/5\n",
            "860/860 [==============================] - 49s 57ms/step - loss: 0.5917 - accuracy: 0.7768 - val_loss: 0.5749 - val_accuracy: 0.7936\n",
            "Epoch 5/5\n",
            "860/860 [==============================] - 48s 55ms/step - loss: 0.5523 - accuracy: 0.7927 - val_loss: 0.5870 - val_accuracy: 0.7858\n"
          ],
          "name": "stdout"
        }
      ]
    },
    {
      "cell_type": "code",
      "metadata": {
        "colab": {
          "base_uri": "https://localhost:8080/"
        },
        "id": "fgX9-Gto2DP7",
        "outputId": "d56eb0e1-5bcb-4cd6-9732-40cbd936c885"
      },
      "source": [
        "ev = model_a.evaluate(X_test_n, y_test)"
      ],
      "execution_count": 54,
      "outputs": [
        {
          "output_type": "stream",
          "text": [
            "313/313 [==============================] - 3s 10ms/step - loss: 0.6510 - accuracy: 0.7603\n"
          ],
          "name": "stdout"
        }
      ]
    },
    {
      "cell_type": "code",
      "metadata": {
        "colab": {
          "base_uri": "https://localhost:8080/"
        },
        "id": "coZP9u7v2gYJ",
        "outputId": "fcbec3ef-1a84-4ab8-f48d-f0fd69c251b3"
      },
      "source": [
        "model_history_b = model_b.fit(X_train, y_train, epochs=5,batch_size= 64,\n",
        "                    validation_data=(X_valid, y_valid))"
      ],
      "execution_count": 55,
      "outputs": [
        {
          "output_type": "stream",
          "text": [
            "Epoch 1/5\n",
            "860/860 [==============================] - 15s 17ms/step - loss: 1.4053 - accuracy: 0.5507 - val_loss: 0.8539 - val_accuracy: 0.7152\n",
            "Epoch 2/5\n",
            "860/860 [==============================] - 14s 16ms/step - loss: 0.7424 - accuracy: 0.7321 - val_loss: 0.7146 - val_accuracy: 0.7340\n",
            "Epoch 3/5\n",
            "860/860 [==============================] - 14s 16ms/step - loss: 0.6549 - accuracy: 0.7627 - val_loss: 0.6393 - val_accuracy: 0.7750\n",
            "Epoch 4/5\n",
            "860/860 [==============================] - 14s 16ms/step - loss: 0.6075 - accuracy: 0.7790 - val_loss: 0.5849 - val_accuracy: 0.7830\n",
            "Epoch 5/5\n",
            "860/860 [==============================] - 13s 15ms/step - loss: 0.5742 - accuracy: 0.7906 - val_loss: 0.5920 - val_accuracy: 0.7726\n"
          ],
          "name": "stdout"
        }
      ]
    },
    {
      "cell_type": "code",
      "metadata": {
        "colab": {
          "base_uri": "https://localhost:8080/"
        },
        "id": "4N5_wPMX2k53",
        "outputId": "b90fd88f-0f27-4c5a-86bb-f2487f399f8b"
      },
      "source": [
        "ev = model_b.evaluate(X_test_n, y_test)"
      ],
      "execution_count": 56,
      "outputs": [
        {
          "output_type": "stream",
          "text": [
            "313/313 [==============================] - 1s 4ms/step - loss: 0.6345 - accuracy: 0.7570\n"
          ],
          "name": "stdout"
        }
      ]
    }
  ]
}