{
  "nbformat": 4,
  "nbformat_minor": 0,
  "metadata": {
    "kernelspec": {
      "display_name": "Python 3",
      "language": "python",
      "name": "python3"
    },
    "language_info": {
      "codemirror_mode": {
        "name": "ipython",
        "version": 3
      },
      "file_extension": ".py",
      "mimetype": "text/x-python",
      "name": "python",
      "nbconvert_exporter": "python",
      "pygments_lexer": "ipython3",
      "version": "3.7.6"
    },
    "colab": {
      "name": "LeNet5.ipynb",
      "provenance": [],
      "collapsed_sections": []
    }
  },
  "cells": [
    {
      "cell_type": "markdown",
      "metadata": {
        "id": "kdxZqw-_vJ5Z"
      },
      "source": [
        "# Implementacion LeNet-5  y test en mnist"
      ]
    },
    {
      "cell_type": "code",
      "metadata": {
        "id": "t72dcWeXvJ5b"
      },
      "source": [
        "import numpy as np\n",
        "from keras.datasets import mnist\n",
        "from matplotlib import pyplot\n",
        "from tensorflow.keras.models import Sequential\n",
        "from tensorflow.keras.layers import Conv2D, AveragePooling2D, Dense, Flatten\n",
        "from tensorflow.keras.utils import to_categorical\n",
        "from tensorflow.keras.preprocessing.image import ImageDataGenerator"
      ],
      "execution_count": 21,
      "outputs": []
    },
    {
      "cell_type": "markdown",
      "metadata": {
        "id": "FxFkT112vJ5f"
      },
      "source": [
        "## Cargamos los datos\n"
      ]
    },
    {
      "cell_type": "code",
      "metadata": {
        "id": "vHx6onwbvJ5f"
      },
      "source": [
        "# Cargar el dataset\n",
        "(train_X, train_y), (test_X, test_y) = mnist.load_data()\n",
        "\n",
        "# Hacemos reshape de las imágenes para que tengan un canal\n",
        "train_X_n = train_X.reshape((train_X_n.shape[0], 28, 28, 1))\n",
        "test_X_n = test_X.reshape((test_X_n.shape[0], 28, 28, 1))\n"
      ],
      "execution_count": 41,
      "outputs": []
    },
    {
      "cell_type": "code",
      "metadata": {
        "id": "aHPd3sOqf8fM"
      },
      "source": [
        "train_X_32= np.zeros(shape=(train_X_n.shape[0],32,32,1))\n",
        "train_X_32[:,2:-2,2:-2,:]=train_X_n\n",
        "test_X_32= np.zeros(shape=(test_X_n.shape[0],32,32,1))\n",
        "test_X_32[:,2:-2,2:-2,:]=test_X_n"
      ],
      "execution_count": 46,
      "outputs": []
    },
    {
      "cell_type": "markdown",
      "metadata": {
        "id": "dpSVZomFvJ5i"
      },
      "source": [
        "### Entrenamos el modelo"
      ]
    },
    {
      "cell_type": "code",
      "metadata": {
        "id": "NCfI9KTaa9oH"
      },
      "source": [
        "# Armar el modelo\n",
        "model = Sequential()\n",
        "model.add(Conv2D(filters= 6, kernel_size=(5,5), strides=1, activation='tanh',input_shape=(32, 32, 1)))\n",
        "model.add(AveragePooling2D(pool_size=(2,2),strides=2))\n",
        "model.add(Conv2D(filters=16, kernel_size=(5,5), strides=1, activation='tanh'))\n",
        "model.add(AveragePooling2D(pool_size=(2,2),strides=2))\n",
        "model.add(Conv2D(filters=120, kernel_size=(5,5), strides=1))\n",
        "model.add(Flatten())\n",
        "model.add(Dense(84, activation='tanh'))\n",
        "model.add(Dense(10, activation='softmax'))  \n",
        "\n",
        "model.compile(\n",
        "  'adam',\n",
        "  loss='categorical_crossentropy',\n",
        "  metrics=['accuracy'],\n",
        ")"
      ],
      "execution_count": 47,
      "outputs": []
    },
    {
      "cell_type": "code",
      "metadata": {
        "id": "e5vpguiVxYt7",
        "colab": {
          "base_uri": "https://localhost:8080/"
        },
        "outputId": "0495c2b8-960c-4d9e-cfba-b10da597459d"
      },
      "source": [
        "model.summary()"
      ],
      "execution_count": 48,
      "outputs": [
        {
          "output_type": "stream",
          "text": [
            "Model: \"sequential_8\"\n",
            "_________________________________________________________________\n",
            "Layer (type)                 Output Shape              Param #   \n",
            "=================================================================\n",
            "conv2d_20 (Conv2D)           (None, 28, 28, 6)         156       \n",
            "_________________________________________________________________\n",
            "average_pooling2d_12 (Averag (None, 14, 14, 6)         0         \n",
            "_________________________________________________________________\n",
            "conv2d_21 (Conv2D)           (None, 10, 10, 16)        2416      \n",
            "_________________________________________________________________\n",
            "average_pooling2d_13 (Averag (None, 5, 5, 16)          0         \n",
            "_________________________________________________________________\n",
            "conv2d_22 (Conv2D)           (None, 1, 1, 120)         48120     \n",
            "_________________________________________________________________\n",
            "flatten_5 (Flatten)          (None, 120)               0         \n",
            "_________________________________________________________________\n",
            "dense_10 (Dense)             (None, 84)                10164     \n",
            "_________________________________________________________________\n",
            "dense_11 (Dense)             (None, 10)                850       \n",
            "=================================================================\n",
            "Total params: 61,706\n",
            "Trainable params: 61,706\n",
            "Non-trainable params: 0\n",
            "_________________________________________________________________\n"
          ],
          "name": "stdout"
        }
      ]
    },
    {
      "cell_type": "code",
      "metadata": {
        "id": "cf30zYJzvJ5k",
        "colab": {
          "base_uri": "https://localhost:8080/"
        },
        "outputId": "b89cbd8c-fa2d-4977-b93f-6a4f795b077a"
      },
      "source": [
        "# Entrenamos el modelo\n",
        "model.fit(\n",
        "  train_X_32,\n",
        "  to_categorical(train_y),\n",
        "  epochs=10,\n",
        "  validation_data=(test_X_32, to_categorical(test_y)),\n",
        ")"
      ],
      "execution_count": 49,
      "outputs": [
        {
          "output_type": "stream",
          "text": [
            "Epoch 1/10\n",
            "1875/1875 [==============================] - 26s 13ms/step - loss: 0.1589 - accuracy: 0.9523 - val_loss: 0.0727 - val_accuracy: 0.9774\n",
            "Epoch 2/10\n",
            "1875/1875 [==============================] - 27s 14ms/step - loss: 0.0737 - accuracy: 0.9769 - val_loss: 0.0560 - val_accuracy: 0.9834\n",
            "Epoch 3/10\n",
            "1875/1875 [==============================] - 27s 14ms/step - loss: 0.0612 - accuracy: 0.9810 - val_loss: 0.0578 - val_accuracy: 0.9811\n",
            "Epoch 4/10\n",
            "1875/1875 [==============================] - 27s 14ms/step - loss: 0.0538 - accuracy: 0.9838 - val_loss: 0.0644 - val_accuracy: 0.9796\n",
            "Epoch 5/10\n",
            "1875/1875 [==============================] - 27s 14ms/step - loss: 0.0549 - accuracy: 0.9826 - val_loss: 0.0481 - val_accuracy: 0.9835\n",
            "Epoch 6/10\n",
            "1875/1875 [==============================] - 27s 14ms/step - loss: 0.0515 - accuracy: 0.9844 - val_loss: 0.0547 - val_accuracy: 0.9821\n",
            "Epoch 7/10\n",
            "1875/1875 [==============================] - 27s 14ms/step - loss: 0.0527 - accuracy: 0.9833 - val_loss: 0.0439 - val_accuracy: 0.9869\n",
            "Epoch 8/10\n",
            "1875/1875 [==============================] - 27s 14ms/step - loss: 0.0461 - accuracy: 0.9861 - val_loss: 0.0479 - val_accuracy: 0.9847\n",
            "Epoch 9/10\n",
            "1875/1875 [==============================] - 27s 14ms/step - loss: 0.0473 - accuracy: 0.9855 - val_loss: 0.0535 - val_accuracy: 0.9828\n",
            "Epoch 10/10\n",
            "1875/1875 [==============================] - 27s 14ms/step - loss: 0.0469 - accuracy: 0.9849 - val_loss: 0.0501 - val_accuracy: 0.9840\n"
          ],
          "name": "stdout"
        },
        {
          "output_type": "execute_result",
          "data": {
            "text/plain": [
              "<tensorflow.python.keras.callbacks.History at 0x7fb3d7576890>"
            ]
          },
          "metadata": {
            "tags": []
          },
          "execution_count": 49
        }
      ]
    },
    {
      "cell_type": "code",
      "metadata": {
        "id": "XAwAHKVihOql"
      },
      "source": [
        "# Guardar el modelo al disco\n",
        "model.save_weights('LeNet5.h5')\n",
        "\n",
        "# Cargar el modelo del disco\n",
        "# model.load_weights('LeNet5.h5')"
      ],
      "execution_count": 50,
      "outputs": []
    },
    {
      "cell_type": "code",
      "metadata": {
        "colab": {
          "base_uri": "https://localhost:8080/",
          "height": 264
        },
        "id": "DUtT_7QRhcqO",
        "outputId": "2c808377-b67f-46a1-94f6-0de8b8d70929"
      },
      "source": [
        "# Predecir las primeras 10 imágenes del test set\n",
        "predicciones = model.predict(test_X_32[:10])\n",
        "\n",
        "# Imprimir las predicciones\n",
        "print(np.argmax(predicciones, axis=1))\n",
        "\n",
        "# Chequear que son correctas\n",
        "print(test_y[:10])\n",
        "\n",
        "# Plotear esas imágenes\n",
        "for i in range(10):\n",
        "\tpyplot.subplot(2,5,i+1)\n",
        "\tpyplot.imshow(test_X_32[i][:,:,0], cmap=pyplot.get_cmap('gray'))\n",
        "pyplot.show()"
      ],
      "execution_count": 56,
      "outputs": [
        {
          "output_type": "stream",
          "text": [
            "[7 2 1 0 4 1 4 9 5 9]\n",
            "[7 2 1 0 4 1 4 9 5 9]\n"
          ],
          "name": "stdout"
        },
        {
          "output_type": "display_data",
          "data": {
            "image/png": "[encoded data removed]",
            "text/plain": [
              "<Figure size 432x288 with 10 Axes>"
            ]
          },
          "metadata": {
            "tags": [],
            "needs_background": "light"
          }
        }
      ]
    }
  ]
}